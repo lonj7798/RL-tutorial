{
 "cells": [
  {
   "cell_type": "code",
   "execution_count": 1,
   "id": "d3a2d508",
   "metadata": {
    "scrolled": true
   },
   "outputs": [
    {
     "name": "stderr",
     "output_type": "stream",
     "text": [
      "\n"
     ]
    }
   ],
   "source": [
    "import gym\n",
    "import tianshou as ts\n",
    "\n",
    "import torch"
   ]
  },
  {
   "cell_type": "code",
   "execution_count": 2,
   "id": "1189a3ae",
   "metadata": {},
   "outputs": [],
   "source": [
    "env = gym.make('Acrobot-v1')"
   ]
  },
  {
   "cell_type": "code",
   "execution_count": 3,
   "id": "69b3201f",
   "metadata": {},
   "outputs": [],
   "source": [
    "train_envs = ts.env.DummyVectorEnv([lambda: gym.make('Acrobot-v1') for _ in range(10)])\n",
    "test_envs = ts.env.DummyVectorEnv([lambda: gym.make('Acrobot-v1') for _ in range(100)])"
   ]
  },
  {
   "cell_type": "code",
   "execution_count": 4,
   "id": "5b4b89c4",
   "metadata": {},
   "outputs": [],
   "source": [
    "state_shape = env.observation_space.shape or env.observation_space.n\n",
    "action_shape = env.action_space.shape or env.action_space.n\n",
    "net = ts.utils.net.common.Net(state_shape, action_shape, activation='ReLu')\n",
    "optim = torch.optim.Adam(net.parameters(), lr=1e-3)"
   ]
  },
  {
   "cell_type": "code",
   "execution_count": 5,
   "id": "89a33212",
   "metadata": {},
   "outputs": [],
   "source": [
    "policy = ts.policy.DQNPolicy(net, optim, discount_factor = 0.9, estimation_step = 3, target_update_freq = 320)"
   ]
  },
  {
   "cell_type": "code",
   "execution_count": 6,
   "id": "e68c60f8",
   "metadata": {},
   "outputs": [],
   "source": [
    "train_collector = ts.data.Collector(policy, train_envs, ts.data.VectorReplayBuffer(20000, 10), exploration_noise = True)\n",
    "test_collector = ts.data.Collector(policy, test_envs, exploration_noise = True)"
   ]
  },
  {
   "cell_type": "code",
   "execution_count": 7,
   "id": "c20eb2b7",
   "metadata": {},
   "outputs": [
    {
     "name": "stderr",
     "output_type": "stream",
     "text": [
      "Epoch #1: 10001it [00:06, 1449.29it/s, env_step=10000, len=500, loss=3.613, n/ep=4, n/st=10, rew=-500.00]                           \n"
     ]
    },
    {
     "name": "stdout",
     "output_type": "stream",
     "text": [
      "Epoch #1: test_reward: -500.000000 ± 0.000000, best_reward: -500.000000 ± 0.000000 in #0\n"
     ]
    },
    {
     "name": "stderr",
     "output_type": "stream",
     "text": [
      "Epoch #2: 10001it [00:06, 1487.00it/s, env_step=20000, len=473, loss=3.087, n/ep=0, n/st=10, rew=-472.00]                           \n"
     ]
    },
    {
     "name": "stdout",
     "output_type": "stream",
     "text": [
      "Epoch #2: test_reward: -258.320000 ± 104.503003, best_reward: -258.320000 ± 104.503003 in #2\n"
     ]
    },
    {
     "name": "stderr",
     "output_type": "stream",
     "text": [
      "Epoch #3: 10001it [00:19, 508.24it/s, env_step=30000, len=189, loss=3.680, n/ep=0, n/st=10, rew=-188.00]                            \n"
     ]
    },
    {
     "name": "stdout",
     "output_type": "stream",
     "text": [
      "Epoch #3: test_reward: -167.810000 ± 39.565817, best_reward: -167.810000 ± 39.565817 in #3\n"
     ]
    },
    {
     "name": "stderr",
     "output_type": "stream",
     "text": [
      "Epoch #4: 10001it [00:06, 1478.81it/s, env_step=40000, len=148, loss=4.268, n/ep=0, n/st=10, rew=-147.00]                           \n"
     ]
    },
    {
     "name": "stdout",
     "output_type": "stream",
     "text": [
      "Epoch #4: test_reward: -216.690000 ± 62.779885, best_reward: -167.810000 ± 39.565817 in #3\n"
     ]
    },
    {
     "name": "stderr",
     "output_type": "stream",
     "text": [
      "Epoch #5: 10001it [00:07, 1322.79it/s, env_step=50000, len=188, loss=3.156, n/ep=0, n/st=10, rew=-187.00]                           \n"
     ]
    },
    {
     "name": "stdout",
     "output_type": "stream",
     "text": [
      "Epoch #5: test_reward: -416.500000 ± 93.917251, best_reward: -167.810000 ± 39.565817 in #3\n"
     ]
    },
    {
     "name": "stderr",
     "output_type": "stream",
     "text": [
      "Epoch #6: 10001it [00:29, 336.80it/s, env_step=60000, len=178, loss=2.369, n/ep=0, n/st=10, rew=-177.00]                            \n"
     ]
    },
    {
     "name": "stdout",
     "output_type": "stream",
     "text": [
      "Epoch #6: test_reward: -244.810000 ± 84.784868, best_reward: -167.810000 ± 39.565817 in #3\n"
     ]
    },
    {
     "name": "stderr",
     "output_type": "stream",
     "text": [
      "Epoch #7: 10001it [00:06, 1430.06it/s, env_step=70000, len=172, loss=1.952, n/ep=0, n/st=10, rew=-171.00]                           \n"
     ]
    },
    {
     "name": "stdout",
     "output_type": "stream",
     "text": [
      "Epoch #7: test_reward: -235.510000 ± 70.430035, best_reward: -167.810000 ± 39.565817 in #3\n"
     ]
    },
    {
     "name": "stderr",
     "output_type": "stream",
     "text": [
      "Epoch #8: 10001it [00:06, 1507.21it/s, env_step=80000, len=210, loss=1.461, n/ep=0, n/st=10, rew=-209.00]                           \n"
     ]
    },
    {
     "name": "stdout",
     "output_type": "stream",
     "text": [
      "Epoch #8: test_reward: -156.470000 ± 31.354890, best_reward: -156.470000 ± 31.354890 in #8\n"
     ]
    },
    {
     "name": "stderr",
     "output_type": "stream",
     "text": [
      "Epoch #9: 10001it [00:06, 1567.58it/s, env_step=90000, len=197, loss=1.339, n/ep=0, n/st=10, rew=-196.00]                           \n"
     ]
    },
    {
     "name": "stdout",
     "output_type": "stream",
     "text": [
      "Epoch #9: test_reward: -193.200000 ± 69.508704, best_reward: -156.470000 ± 31.354890 in #8\n"
     ]
    },
    {
     "name": "stderr",
     "output_type": "stream",
     "text": [
      "Epoch #10: 10001it [00:06, 1553.69it/s, env_step=100000, len=224, loss=1.075, n/ep=0, n/st=10, rew=-223.00]                           \n"
     ]
    },
    {
     "name": "stdout",
     "output_type": "stream",
     "text": [
      "Epoch #10: test_reward: -228.890000 ± 58.131901, best_reward: -156.470000 ± 31.354890 in #8\n",
      "Finished training! Use 165.72s\n"
     ]
    }
   ],
   "source": [
    "result = ts.trainer.offpolicy_trainer(\n",
    "    policy, train_collector, test_collector,\n",
    "    max_epoch=10, step_per_epoch=10000, step_per_collect=10,\n",
    "    update_per_step=0.1, episode_per_test=100, batch_size=64,\n",
    "    train_fn=lambda epoch, env_step: policy.set_eps(0.1),\n",
    "    test_fn=lambda epoch, env_step: policy.set_eps(0.05),\n",
    "    stop_fn=lambda mean_rewards: mean_rewards >= env.spec.reward_threshold)\n",
    "print(f'Finished training! Use {result[\"duration\"]}')"
   ]
  },
  {
   "cell_type": "code",
   "execution_count": 8,
   "id": "9c455c9a",
   "metadata": {},
   "outputs": [
    {
     "name": "stderr",
     "output_type": "stream",
     "text": [
      "/home/jaewon/anaconda3/lib/python3.8/site-packages/tianshou/utils/logger/tensorboard.py:84: UserWarning: Deprecated soon: BasicLogger has renamed to TensorboardLogger in #427.\n",
      "  warnings.warn(\n"
     ]
    }
   ],
   "source": [
    "from torch.utils.tensorboard import SummaryWriter\n",
    "from tianshou.utils import BasicLogger\n",
    "\n",
    "writer = SummaryWriter('log/dqn_Acrobot-v1')\n",
    "logger = BasicLogger(writer)"
   ]
  },
  {
   "cell_type": "code",
   "execution_count": 9,
   "id": "c145a7f5",
   "metadata": {},
   "outputs": [
    {
     "data": {
      "text/plain": [
       "<All keys matched successfully>"
      ]
     },
     "execution_count": 9,
     "metadata": {},
     "output_type": "execute_result"
    }
   ],
   "source": [
    "torch.save(policy.state_dict(), 'dqn.pth')\n",
    "policy.load_state_dict(torch.load('dqn.pth'))"
   ]
  },
  {
   "cell_type": "code",
   "execution_count": 10,
   "id": "437c8deb",
   "metadata": {},
   "outputs": [
    {
     "name": "stderr",
     "output_type": "stream",
     "text": [
      "/home/jaewon/anaconda3/lib/python3.8/site-packages/tianshou/data/collector.py:66: UserWarning: Single environment detected, wrap to DummyVectorEnv.\n",
      "  warnings.warn(\"Single environment detected, wrap to DummyVectorEnv.\")\n"
     ]
    },
    {
     "data": {
      "text/plain": [
       "{'n/ep': 1,\n",
       " 'n/st': 238,\n",
       " 'rews': array([-237.]),\n",
       " 'lens': array([238]),\n",
       " 'idxs': array([0]),\n",
       " 'rew': -237.0,\n",
       " 'len': 238.0,\n",
       " 'rew_std': 0.0,\n",
       " 'len_std': 0.0}"
      ]
     },
     "execution_count": 10,
     "metadata": {},
     "output_type": "execute_result"
    }
   ],
   "source": [
    "policy.eval()\n",
    "policy.set_eps(0.07)\n",
    "collector = ts.data.Collector(policy, env, exploration_noise=True)\n",
    "collector.collect(n_episode=1, render=1 / 35)"
   ]
  },
  {
   "cell_type": "code",
   "execution_count": null,
   "id": "052c4aa7",
   "metadata": {},
   "outputs": [],
   "source": []
  },
  {
   "cell_type": "code",
   "execution_count": null,
   "id": "429805a3",
   "metadata": {},
   "outputs": [],
   "source": []
  }
 ],
 "metadata": {
  "kernelspec": {
   "display_name": "Python 3",
   "language": "python",
   "name": "python3"
  },
  "language_info": {
   "codemirror_mode": {
    "name": "ipython",
    "version": 3
   },
   "file_extension": ".py",
   "mimetype": "text/x-python",
   "name": "python",
   "nbconvert_exporter": "python",
   "pygments_lexer": "ipython3",
   "version": "3.8.11"
  }
 },
 "nbformat": 4,
 "nbformat_minor": 5
}
