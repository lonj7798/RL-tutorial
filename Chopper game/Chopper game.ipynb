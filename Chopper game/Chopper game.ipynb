{
 "cells": [
  {
   "cell_type": "markdown",
   "id": "0b4e4413",
   "metadata": {},
   "source": [
    "https://blog.paperspace.com/creating-custom-environments-openai-gym/"
   ]
  },
  {
   "cell_type": "code",
   "execution_count": 1,
   "id": "58374fc0",
   "metadata": {},
   "outputs": [
    {
     "name": "stderr",
     "output_type": "stream",
     "text": [
      "\n"
     ]
    }
   ],
   "source": [
    "import numpy as np \n",
    "import cv2 \n",
    "import matplotlib.pyplot as plt\n",
    "import PIL.Image as Image\n",
    "import gym\n",
    "import random\n",
    "\n",
    "from gym import Env, spaces\n",
    "import time\n",
    "\n",
    "font = cv2.FONT_HERSHEY_COMPLEX_SMALL "
   ]
  },
  {
   "cell_type": "markdown",
   "id": "3551f2f0",
   "metadata": {},
   "source": [
    "## Environment:\n",
    "\n",
    "1. as much distance maximize reward. \n",
    "2. chopper has to avoid birds. if chopper strikes a bird, the episode terminates.\n",
    "3. chopper consider fuel. if feul is 0, the episode terminates\n",
    "4. chopper takes fuel tanks to full the fuel tank. (max fuel tank is 1000)\n",
    "5. whether the environment is continuous or discrete"
   ]
  },
  {
   "cell_type": "markdown",
   "id": "27597a70",
   "metadata": {},
   "source": [
    "## ChopperScape Class:\n",
    "\n",
    "1. `canvas`: observation image\n",
    "2. `x_min`, `x_max`, `y_min`, `y_max`: defines eadge of area(screen) where the agent plays games\n",
    "3. `elements`: active elements per time step, such as chopper, bird, fuel tank.\n",
    "4. `max_fuel`: max fuel that the chopper can hold"
   ]
  },
  {
   "cell_type": "code",
   "execution_count": 2,
   "id": "1eb2762c",
   "metadata": {},
   "outputs": [],
   "source": [
    "class ChopperScape(Env):\n",
    "    def __init__(self):\n",
    "        super(ChopperScape, self).__init__()\n",
    "        \n",
    "        # Define a 2-D observation space\n",
    "        self.observation_shape = (600, 800, 3)\n",
    "        self.observation_space = spaces.Box(low = np.zeros(self.observation_shape), \n",
    "                                            high = np.ones(self.observation_shape),\n",
    "                                            dtype = np.float16)\n",
    "        \n",
    "        # Define an action space ranging from 0 to 4\n",
    "        # Discrete action\n",
    "        self.action_space = spaces.Discrete(6,)\n",
    "                        \n",
    "        # canvas to render the environment images (grid...?)\n",
    "        self.canvas = np.ones(self.observation_shape) * 1\n",
    "        \n",
    "        # elements present inside the environment\n",
    "        self.elements = []\n",
    "        \n",
    "        # max fuel chopper can take at once\n",
    "        self.max_fuel = 1000\n",
    "\n",
    "        # Permissible area of helicper to be \n",
    "        self.y_min = int (self.observation_shape[0] * 0.1)\n",
    "        self.x_min = 0\n",
    "        self.y_max = int (self.observation_shape[0] * 0.9)\n",
    "        self.x_max = self.observation_shape[1]"
   ]
  },
  {
   "cell_type": "markdown",
   "id": "2d4a90e9",
   "metadata": {},
   "source": [
    "## Elements of the Environment\n",
    "\n",
    "The tree elements(class); Chopper, Birds, Fuels inherit a class called `point`"
   ]
  },
  {
   "cell_type": "markdown",
   "id": "ea02d7ea",
   "metadata": {},
   "source": [
    "### Point Class\n",
    "\n",
    "- `(x,y)`: position of the image\n",
    "- `(x_min, x_max, y_min, y_max)`: edge of the screen (limit the movement)\n",
    "- `name`: name of the point\n",
    "- `get_position`: get the coordinates of the point\n",
    "- `set_pisition`: set the coordinates of the point to a certain value\n",
    "- `move`: move the points by certain value."
   ]
  },
  {
   "cell_type": "code",
   "execution_count": 3,
   "id": "1747a7af",
   "metadata": {},
   "outputs": [],
   "source": [
    "class Point(object):\n",
    "    def __init__(self, name, x_max, x_min, y_max, y_min):\n",
    "        self.x = 0\n",
    "        self.y = 0\n",
    "        self.x_min = x_min\n",
    "        self.x_max = x_max\n",
    "        self.y_min = y_min\n",
    "        self.y_max = y_max\n",
    "        self.name = name\n",
    "    \n",
    "    def set_position(self, x, y):\n",
    "        self.x = self.clamp(x, self.x_min, self.x_max - self.icon_w)\n",
    "        self.y = self.clamp(y, self.y_min, self.y_max - self.icon_h)\n",
    "    \n",
    "    def get_position(self):\n",
    "        return (self.x, self.y)\n",
    "    \n",
    "    def move(self, del_x, del_y):\n",
    "        self.x += del_x\n",
    "        self.y += del_y\n",
    "        \n",
    "        self.x = self.clamp(self.x, self.x_min, self.x_max - self.icon_w)\n",
    "        self.y = self.clamp(self.y, self.y_min, self.y_max - self.icon_h)\n",
    "\n",
    "    def clamp(self, n, minn, maxn):\n",
    "        return max(min(maxn, n), minn)"
   ]
  },
  {
   "cell_type": "code",
   "execution_count": 4,
   "id": "9a038d79",
   "metadata": {},
   "outputs": [],
   "source": [
    "class Chopper(Point):\n",
    "    def __init__(self, name, x_max, x_min, y_max, y_min):\n",
    "        super(Chopper, self).__init__(name, x_max, x_min, y_max, y_min)\n",
    "        self.icon = cv2.imread(\"chopper.png\") / 255.0\n",
    "        self.icon_w = 64\n",
    "        self.icon_h = 64\n",
    "        self.icon = cv2.resize(self.icon, (self.icon_h, self.icon_w))"
   ]
  },
  {
   "cell_type": "code",
   "execution_count": 5,
   "id": "846e2dfd",
   "metadata": {},
   "outputs": [],
   "source": [
    "class Bird(Point):\n",
    "    def __init__(self, name, x_max, x_min, y_max, y_min):\n",
    "        super(Bird, self).__init__(name, x_max, x_min, y_max, y_min)\n",
    "        self.icon = cv2.imread(\"bird.png\") / 255.0\n",
    "        self.icon_w = 32\n",
    "        self.icon_h = 32\n",
    "        self.icon = cv2.resize(self.icon, (self.icon_h, self.icon_w))"
   ]
  },
  {
   "cell_type": "code",
   "execution_count": 6,
   "id": "8083030a",
   "metadata": {},
   "outputs": [],
   "source": [
    "class Fuel(Point):\n",
    "    def __init__(self, name, x_max, x_min, y_max, y_min):\n",
    "        super(Fuel, self).__init__(name, x_max, x_min, y_max, y_min)\n",
    "        self.icon = cv2.imread(\"fuel.png\") / 255.0\n",
    "        self.icon_w = 32\n",
    "        self.icon_h = 32\n",
    "        self.icon = cv2.resize(self.icon, (self.icon_h, self.icon_w))"
   ]
  },
  {
   "cell_type": "markdown",
   "id": "4d7323ea",
   "metadata": {},
   "source": [
    "## Interacting with the Env\n",
    "- `reset`: This function resets the environment to its initial state, and returns the observation of the environment corresponding to the initial state.\n",
    "- `step`: This function takes an action as an input and applies it to the environment, which leads to the environment transitioning to a new state. The reset function returns four things:"
   ]
  },
  {
   "cell_type": "code",
   "execution_count": 7,
   "id": "763e4f3f",
   "metadata": {},
   "outputs": [],
   "source": [
    "import jdc"
   ]
  },
  {
   "cell_type": "code",
   "execution_count": 8,
   "id": "3fc184cf",
   "metadata": {},
   "outputs": [],
   "source": [
    "%%add_to ChopperScape\n",
    "\n",
    "def draw_elements_on_canvas(self):\n",
    "    # Init the canvas \n",
    "    self.canvas = np.ones(self.observation_shape) * 1\n",
    "\n",
    "    # Draw the heliopter on canvas\n",
    "    for elem in self.elements:\n",
    "        elem_shape = elem.icon.shape\n",
    "        x,y = elem.x, elem.y\n",
    "        self.canvas[y : y + elem_shape[1], x:x + elem_shape[0]] = elem.icon\n",
    "\n",
    "    text = 'Fuel Left: {} | Rewards: {}'.format(self.fuel_left, self.ep_return)\n",
    "\n",
    "    # Put the info on canvas \n",
    "    self.canvas = cv2.putText(self.canvas, text, (10,20), font,  \n",
    "               0.8, (0,0,0), 1, cv2.LINE_AA)\n",
    "\n",
    "def reset(self):\n",
    "    # Reset the fuel consumed\n",
    "    self.fuel_left = self.max_fuel\n",
    "\n",
    "    # Reset the reward\n",
    "    self.ep_return  = 0\n",
    "\n",
    "    # Number of birds\n",
    "    self.bird_count = 0\n",
    "    self.fuel_count = 0\n",
    "\n",
    "    # Determine a place to intialise the chopper in\n",
    "    x = random.randrange(int(self.observation_shape[0] * 0.05), int(self.observation_shape[0] * 0.10))\n",
    "    y = random.randrange(int(self.observation_shape[1] * 0.15), int(self.observation_shape[1] * 0.20))\n",
    "    \n",
    "    # Intialise the chopper\n",
    "    self.chopper = Chopper(\"chopper\", self.x_max, self.x_min, self.y_max, self.y_min)\n",
    "    self.chopper.set_position(x,y)\n",
    "\n",
    "    # Intialise the elements \n",
    "    self.elements = [self.chopper]\n",
    "\n",
    "    # Reset the Canvas \n",
    "    self.canvas = np.ones(self.observation_shape) * 1\n",
    "\n",
    "    # Draw elements on the canvas\n",
    "    self.draw_elements_on_canvas()\n",
    "\n",
    "\n",
    "    # return the observation\n",
    "    return self.canvas "
   ]
  },
  {
   "cell_type": "code",
   "execution_count": 9,
   "id": "d83e33da",
   "metadata": {},
   "outputs": [
    {
     "name": "stderr",
     "output_type": "stream",
     "text": [
      "/home/jaewon/anaconda3/lib/python3.8/site-packages/gym/spaces/box.py:78: UserWarning: \u001b[33mWARN: Box bound precision lowered by casting to float16\u001b[0m\n",
      "  logger.warn(f\"Box bound precision lowered by casting to {self.dtype}\")\n"
     ]
    },
    {
     "data": {
      "text/plain": [
       "<matplotlib.image.AxesImage at 0x7ff4e1e30eb0>"
      ]
     },
     "execution_count": 9,
     "metadata": {},
     "output_type": "execute_result"
    }
   ],
   "source": [
    "env = ChopperScape()\n",
    "obs = env.reset()\n",
    "plt.imshow(obs)"
   ]
  },
  {
   "cell_type": "code",
   "execution_count": 10,
   "id": "10587994",
   "metadata": {
    "scrolled": false
   },
   "outputs": [
    {
     "data": {
      "image/png": "[encoded data removed]",
      "text/plain": [
       "<Figure size 640x480 with 1 Axes>"
      ]
     },
     "metadata": {},
     "output_type": "display_data"
    }
   ],
   "source": [
    "plt.show()"
   ]
  },
  {
   "cell_type": "code",
   "execution_count": 11,
   "id": "93d3cb67",
   "metadata": {},
   "outputs": [],
   "source": [
    "%%add_to ChopperScape\n",
    "\n",
    "def render(self, mode = \"human\"):\n",
    "    assert mode in [\"human\", \"rgb_array\"], \"Invalid mode, must be either \\\"human\\\" or \\\"rgb_array\\\"\"\n",
    "    if mode == \"human\":\n",
    "        cv2.imshow(\"Game\", self.canvas)\n",
    "        cv2.waitKey(10)\n",
    "    \n",
    "    elif mode == \"rgb_array\":\n",
    "        return self.canvas\n",
    "    \n",
    "def close(self):\n",
    "    cv2.destroyAllWindows()\n",
    "\n",
    "env = ChopperScape()\n",
    "obs = env.reset()\n",
    "screen = env.render(mode = \"rgb_array\")\n",
    "plt.imshow(screen)"
   ]
  },
  {
   "cell_type": "code",
   "execution_count": 12,
   "id": "8076bb08",
   "metadata": {},
   "outputs": [
    {
     "data": {
      "image/png": "[encoded data removed]",
      "text/plain": [
       "<Figure size 640x480 with 1 Axes>"
      ]
     },
     "metadata": {},
     "output_type": "display_data"
    }
   ],
   "source": [
    "plt.show()"
   ]
  },
  {
   "cell_type": "code",
   "execution_count": 13,
   "id": "a5123f86",
   "metadata": {},
   "outputs": [],
   "source": [
    "%%add_to ChopperScape\n",
    "\n",
    "def get_action_meanings(self):\n",
    "    return {0: \"Right\", 1: \"Left\", 2: \"Down\", 3: \"Up\", 4: \"Do Nothing\"}"
   ]
  },
  {
   "cell_type": "code",
   "execution_count": 14,
   "id": "e084ab42",
   "metadata": {},
   "outputs": [],
   "source": [
    "%%add_to ChopperScape\n",
    "\n",
    "def has_collided(self, elem1, elem2):\n",
    "    x_col = False\n",
    "    y_col = False\n",
    "\n",
    "    elem1_x, elem1_y = elem1.get_position()\n",
    "    elem2_x, elem2_y = elem2.get_position()\n",
    "\n",
    "    if 2 * abs(elem1_x - elem2_x) <= (elem1.icon_w + elem2.icon_w):\n",
    "        x_col = True\n",
    "\n",
    "    if 2 * abs(elem1_y - elem2_y) <= (elem1.icon_h + elem2.icon_h):\n",
    "        y_col = True\n",
    "\n",
    "    if x_col and y_col:\n",
    "        return True\n",
    "\n",
    "    return False"
   ]
  },
  {
   "cell_type": "code",
   "execution_count": 45,
   "id": "c3bd2a9c",
   "metadata": {},
   "outputs": [],
   "source": [
    "%%add_to ChopperScape\n",
    "\n",
    "def step(self, action):\n",
    "    # Flag that marks the termination of an episode\n",
    "    done = False\n",
    "    \n",
    "    # Assert that it is a valid action \n",
    "    assert self.action_space.contains(action), \"Invalid Action\"\n",
    "\n",
    "    # Decrease the fuel counter \n",
    "    self.fuel_left -= 1 \n",
    "    \n",
    "    # Reward for executing a step.\n",
    "    reward = 1      \n",
    "\n",
    "    # apply the action to the chopper\n",
    "    if action == 0:\n",
    "        self.chopper.move(0,5)\n",
    "    elif action == 1:\n",
    "        self.chopper.move(0,-5)\n",
    "    elif action == 2:\n",
    "        self.chopper.move(5,0)\n",
    "    elif action == 3:\n",
    "        self.chopper.move(-5,0)\n",
    "    elif action == 4:\n",
    "        self.chopper.move(0,0)\n",
    "\n",
    "    # Spawn a bird at the right edge with prob 0.01\n",
    "    if random.random() < 0.01:\n",
    "        \n",
    "        # Spawn a bird\n",
    "        spawned_bird = Bird(\"bird_{}\".format(self.bird_count), self.x_max, self.x_min, self.y_max, self.y_min)\n",
    "        self.bird_count += 1\n",
    "\n",
    "        # Compute the x,y co-ordinates of the position from where the bird has to be spawned\n",
    "        # Horizontally, the position is on the right edge and vertically, the height is randomly \n",
    "        # sampled from the set of permissible values\n",
    "        bird_x = self.x_max \n",
    "        bird_y = random.randrange(self.y_min, self.y_max)\n",
    "        spawned_bird.set_position(self.x_max, bird_y)\n",
    "        \n",
    "        # Append the spawned bird to the elements currently present in Env. \n",
    "        self.elements.append(spawned_bird)    \n",
    "\n",
    "    # Spawn a fuel at the bottom edge with prob 0.01\n",
    "    if random.random() < 0.01:\n",
    "        # Spawn a fuel tank\n",
    "        spawned_fuel = Fuel(\"fuel_{}\".format(self.bird_count), self.x_max, self.x_min, self.y_max, self.y_min)\n",
    "        self.fuel_count += 1\n",
    "        \n",
    "        # Compute the x,y co-ordinates of the position from where the fuel tank has to be spawned\n",
    "        # Horizontally, the position is randomly chosen from the list of permissible values and \n",
    "        # vertically, the position is on the bottom edge\n",
    "        fuel_x = random.randrange(self.x_min, self.x_max)\n",
    "        fuel_y = self.y_max\n",
    "        spawned_fuel.set_position(fuel_x, fuel_y)\n",
    "        \n",
    "        # Append the spawned fuel tank to the elemetns currently present in the Env.\n",
    "        self.elements.append(spawned_fuel)   \n",
    "\n",
    "    # For elements in the Ev\n",
    "    for elem in self.elements:\n",
    "        if isinstance(elem, Bird):\n",
    "            # If the bird has reached the left edge, remove it from the Env\n",
    "            if elem.get_position()[0] <= self.x_min:\n",
    "                self.elements.remove(elem)\n",
    "            else:\n",
    "                # Move the bird left by 5 pts.\n",
    "                elem.move(-5,0)\n",
    "            \n",
    "            # If the bird has collided.\n",
    "            if self.has_collided(self.chopper, elem):\n",
    "                # Conclude the episode and remove the chopper from the Env.\n",
    "                done = True\n",
    "                reward = -10\n",
    "                self.elements.remove(self.chopper)\n",
    "\n",
    "        if isinstance(elem, Fuel):\n",
    "            # If the fuel tank has reached the top, remove it from the Env\n",
    "            if elem.get_position()[1] <= self.y_min:\n",
    "                self.elements.remove(elem)\n",
    "            else:\n",
    "                # Move the Tank up by 5 pts.\n",
    "                elem.move(0, -5)\n",
    "                \n",
    "            # If the fuel tank has collided with the chopper.\n",
    "            if self.has_collided(self.chopper, elem):\n",
    "                # Remove the fuel tank from the env.\n",
    "                self.elements.remove(elem)\n",
    "                \n",
    "                # Fill the fuel tank of the chopper to full.\n",
    "                self.fuel_left = self.max_fuel\n",
    "    \n",
    "    # Increment the episodic return\n",
    "    self.ep_return += 1\n",
    "\n",
    "    # Draw elements on the canvas\n",
    "    self.draw_elements_on_canvas()\n",
    "\n",
    "    # If out of fuel, end the episode.\n",
    "    if self.fuel_left == 0:\n",
    "        done = True\n",
    "    \n",
    "    return self.canvas, reward, done, np.ndarray(1)"
   ]
  },
  {
   "cell_type": "code",
   "execution_count": 44,
   "id": "c755fa53",
   "metadata": {},
   "outputs": [
    {
     "data": {
      "text/plain": [
       "array([1.])"
      ]
     },
     "execution_count": 44,
     "metadata": {},
     "output_type": "execute_result"
    }
   ],
   "source": [
    "np.ndarray(1)"
   ]
  },
  {
   "cell_type": "code",
   "execution_count": 46,
   "id": "72ede63f",
   "metadata": {},
   "outputs": [],
   "source": [
    "from IPython import display\n",
    "\n",
    "env = ChopperScape()\n",
    "obs = env.reset()\n",
    "\n",
    "\n",
    "while True:\n",
    "    # Take a random action\n",
    "    action = env.action_space.sample()\n",
    "    obs, reward, done, info = env.step(action)\n",
    "    \n",
    "    # Render the game\n",
    "    env.render()\n",
    "    \n",
    "    if done == True:\n",
    "        break\n",
    "\n",
    "env.close()"
   ]
  },
  {
   "cell_type": "code",
   "execution_count": 17,
   "id": "e5a6d831",
   "metadata": {},
   "outputs": [],
   "source": [
    "import tianshou as ts\n",
    "import torch"
   ]
  },
  {
   "cell_type": "code",
   "execution_count": 47,
   "id": "e3c98070",
   "metadata": {},
   "outputs": [],
   "source": [
    "env = ChopperScape()\n",
    "obs = env.reset()"
   ]
  },
  {
   "cell_type": "code",
   "execution_count": 48,
   "id": "92433fcb",
   "metadata": {},
   "outputs": [],
   "source": [
    "train_envs = ts.env.DummyVectorEnv([lambda: ChopperScape() for _ in range(10)])\n",
    "test_envs = ts.env.DummyVectorEnv([lambda: ChopperScape() for _ in range(100)])"
   ]
  },
  {
   "cell_type": "code",
   "execution_count": 49,
   "id": "c9382a85",
   "metadata": {},
   "outputs": [],
   "source": [
    "state_shape = env.observation_space.shape or env.observation_space.n\n",
    "action_shape = env.action_space.shape or env.action_space.n\n",
    "net = ts.utils.net.common.Net(state_shape, action_shape, activation='ReLu')\n",
    "optim = torch.optim.Adam(net.parameters(), lr=1e-3)"
   ]
  },
  {
   "cell_type": "code",
   "execution_count": 50,
   "id": "4d4a01f0",
   "metadata": {},
   "outputs": [],
   "source": [
    "policy = ts.policy.DQNPolicy(net, optim, discount_factor = 0.9, estimation_step = 3, target_update_freq = 320)"
   ]
  },
  {
   "cell_type": "code",
   "execution_count": 51,
   "id": "a2067577",
   "metadata": {},
   "outputs": [],
   "source": [
    "train_collector = ts.data.Collector(policy, train_envs, ts.data.VectorReplayBuffer(20000, 10), exploration_noise = True)\n",
    "test_collector = ts.data.Collector(policy, test_envs, exploration_noise = True)"
   ]
  },
  {
   "cell_type": "code",
   "execution_count": 52,
   "id": "a5d4dff6",
   "metadata": {},
   "outputs": [
    {
     "ename": "IndexError",
     "evalue": "only integers, slices (`:`), ellipsis (`...`), numpy.newaxis (`None`) and integer or boolean arrays are valid indices",
     "output_type": "error",
     "traceback": [
      "\u001b[0;31m---------------------------------------------------------------------------\u001b[0m",
      "\u001b[0;31mIndexError\u001b[0m                                Traceback (most recent call last)",
      "\u001b[0;32m<ipython-input-52-b9156efd5e0f>\u001b[0m in \u001b[0;36m<module>\u001b[0;34m\u001b[0m\n\u001b[0;32m----> 1\u001b[0;31m result = ts.trainer.offpolicy_trainer(\n\u001b[0m\u001b[1;32m      2\u001b[0m     \u001b[0mpolicy\u001b[0m\u001b[0;34m,\u001b[0m \u001b[0mtrain_collector\u001b[0m\u001b[0;34m,\u001b[0m \u001b[0mtest_collector\u001b[0m\u001b[0;34m,\u001b[0m\u001b[0;34m\u001b[0m\u001b[0;34m\u001b[0m\u001b[0m\n\u001b[1;32m      3\u001b[0m     \u001b[0mmax_epoch\u001b[0m\u001b[0;34m=\u001b[0m\u001b[0;36m10\u001b[0m\u001b[0;34m,\u001b[0m \u001b[0mstep_per_epoch\u001b[0m\u001b[0;34m=\u001b[0m\u001b[0;36m10000\u001b[0m\u001b[0;34m,\u001b[0m \u001b[0mstep_per_collect\u001b[0m\u001b[0;34m=\u001b[0m\u001b[0;36m10\u001b[0m\u001b[0;34m,\u001b[0m\u001b[0;34m\u001b[0m\u001b[0;34m\u001b[0m\u001b[0m\n\u001b[1;32m      4\u001b[0m     \u001b[0mupdate_per_step\u001b[0m\u001b[0;34m=\u001b[0m\u001b[0;36m0.1\u001b[0m\u001b[0;34m,\u001b[0m \u001b[0mepisode_per_test\u001b[0m\u001b[0;34m=\u001b[0m\u001b[0;36m100\u001b[0m\u001b[0;34m,\u001b[0m \u001b[0mbatch_size\u001b[0m\u001b[0;34m=\u001b[0m\u001b[0;36m64\u001b[0m\u001b[0;34m,\u001b[0m\u001b[0;34m\u001b[0m\u001b[0;34m\u001b[0m\u001b[0m\n\u001b[1;32m      5\u001b[0m     \u001b[0mtrain_fn\u001b[0m\u001b[0;34m=\u001b[0m\u001b[0;32mlambda\u001b[0m \u001b[0mepoch\u001b[0m\u001b[0;34m,\u001b[0m \u001b[0menv_step\u001b[0m\u001b[0;34m:\u001b[0m \u001b[0mpolicy\u001b[0m\u001b[0;34m.\u001b[0m\u001b[0mset_eps\u001b[0m\u001b[0;34m(\u001b[0m\u001b[0;36m0.1\u001b[0m\u001b[0;34m)\u001b[0m\u001b[0;34m,\u001b[0m\u001b[0;34m\u001b[0m\u001b[0;34m\u001b[0m\u001b[0m\n",
      "\u001b[0;32m~/anaconda3/lib/python3.8/site-packages/tianshou/trainer/offpolicy.py\u001b[0m in \u001b[0;36moffpolicy_trainer\u001b[0;34m(policy, train_collector, test_collector, max_epoch, step_per_epoch, step_per_collect, episode_per_test, batch_size, update_per_step, train_fn, test_fn, stop_fn, save_fn, save_checkpoint_fn, resume_from_log, reward_metric, logger, verbose, test_in_train)\u001b[0m\n\u001b[1;32m     99\u001b[0m         \u001b[0mtest_c\u001b[0m\u001b[0;34m:\u001b[0m \u001b[0mCollector\u001b[0m \u001b[0;34m=\u001b[0m \u001b[0mtest_collector\u001b[0m  \u001b[0;31m# for mypy\u001b[0m\u001b[0;34m\u001b[0m\u001b[0;34m\u001b[0m\u001b[0m\n\u001b[1;32m    100\u001b[0m         \u001b[0mtest_collector\u001b[0m\u001b[0;34m.\u001b[0m\u001b[0mreset_stat\u001b[0m\u001b[0;34m(\u001b[0m\u001b[0;34m)\u001b[0m\u001b[0;34m\u001b[0m\u001b[0;34m\u001b[0m\u001b[0m\n\u001b[0;32m--> 101\u001b[0;31m         test_result = test_episode(\n\u001b[0m\u001b[1;32m    102\u001b[0m             \u001b[0mpolicy\u001b[0m\u001b[0;34m,\u001b[0m \u001b[0mtest_c\u001b[0m\u001b[0;34m,\u001b[0m \u001b[0mtest_fn\u001b[0m\u001b[0;34m,\u001b[0m \u001b[0mstart_epoch\u001b[0m\u001b[0;34m,\u001b[0m \u001b[0mepisode_per_test\u001b[0m\u001b[0;34m,\u001b[0m \u001b[0mlogger\u001b[0m\u001b[0;34m,\u001b[0m \u001b[0menv_step\u001b[0m\u001b[0;34m,\u001b[0m\u001b[0;34m\u001b[0m\u001b[0;34m\u001b[0m\u001b[0m\n\u001b[1;32m    103\u001b[0m             \u001b[0mreward_metric\u001b[0m\u001b[0;34m\u001b[0m\u001b[0;34m\u001b[0m\u001b[0m\n",
      "\u001b[0;32m~/anaconda3/lib/python3.8/site-packages/tianshou/trainer/utils.py\u001b[0m in \u001b[0;36mtest_episode\u001b[0;34m(policy, collector, test_fn, epoch, n_episode, logger, global_step, reward_metric)\u001b[0m\n\u001b[1;32m     25\u001b[0m     \u001b[0;32mif\u001b[0m \u001b[0mtest_fn\u001b[0m\u001b[0;34m:\u001b[0m\u001b[0;34m\u001b[0m\u001b[0;34m\u001b[0m\u001b[0m\n\u001b[1;32m     26\u001b[0m         \u001b[0mtest_fn\u001b[0m\u001b[0;34m(\u001b[0m\u001b[0mepoch\u001b[0m\u001b[0;34m,\u001b[0m \u001b[0mglobal_step\u001b[0m\u001b[0;34m)\u001b[0m\u001b[0;34m\u001b[0m\u001b[0;34m\u001b[0m\u001b[0m\n\u001b[0;32m---> 27\u001b[0;31m     \u001b[0mresult\u001b[0m \u001b[0;34m=\u001b[0m \u001b[0mcollector\u001b[0m\u001b[0;34m.\u001b[0m\u001b[0mcollect\u001b[0m\u001b[0;34m(\u001b[0m\u001b[0mn_episode\u001b[0m\u001b[0;34m=\u001b[0m\u001b[0mn_episode\u001b[0m\u001b[0;34m)\u001b[0m\u001b[0;34m\u001b[0m\u001b[0;34m\u001b[0m\u001b[0m\n\u001b[0m\u001b[1;32m     28\u001b[0m     \u001b[0;32mif\u001b[0m \u001b[0mreward_metric\u001b[0m\u001b[0;34m:\u001b[0m\u001b[0;34m\u001b[0m\u001b[0;34m\u001b[0m\u001b[0m\n\u001b[1;32m     29\u001b[0m         \u001b[0mrew\u001b[0m \u001b[0;34m=\u001b[0m \u001b[0mreward_metric\u001b[0m\u001b[0;34m(\u001b[0m\u001b[0mresult\u001b[0m\u001b[0;34m[\u001b[0m\u001b[0;34m\"rews\"\u001b[0m\u001b[0;34m]\u001b[0m\u001b[0;34m)\u001b[0m\u001b[0;34m\u001b[0m\u001b[0;34m\u001b[0m\u001b[0m\n",
      "\u001b[0;32m~/anaconda3/lib/python3.8/site-packages/tianshou/data/collector.py\u001b[0m in \u001b[0;36mcollect\u001b[0;34m(self, n_step, n_episode, random, render, no_grad)\u001b[0m\n\u001b[1;32m    249\u001b[0m             \u001b[0maction_remap\u001b[0m \u001b[0;34m=\u001b[0m \u001b[0mself\u001b[0m\u001b[0;34m.\u001b[0m\u001b[0mpolicy\u001b[0m\u001b[0;34m.\u001b[0m\u001b[0mmap_action\u001b[0m\u001b[0;34m(\u001b[0m\u001b[0mself\u001b[0m\u001b[0;34m.\u001b[0m\u001b[0mdata\u001b[0m\u001b[0;34m.\u001b[0m\u001b[0mact\u001b[0m\u001b[0;34m)\u001b[0m\u001b[0;34m\u001b[0m\u001b[0;34m\u001b[0m\u001b[0m\n\u001b[1;32m    250\u001b[0m             \u001b[0;31m# step in env\u001b[0m\u001b[0;34m\u001b[0m\u001b[0;34m\u001b[0m\u001b[0;34m\u001b[0m\u001b[0m\n\u001b[0;32m--> 251\u001b[0;31m             \u001b[0mresult\u001b[0m \u001b[0;34m=\u001b[0m \u001b[0mself\u001b[0m\u001b[0;34m.\u001b[0m\u001b[0menv\u001b[0m\u001b[0;34m.\u001b[0m\u001b[0mstep\u001b[0m\u001b[0;34m(\u001b[0m\u001b[0maction_remap\u001b[0m\u001b[0;34m,\u001b[0m \u001b[0mready_env_ids\u001b[0m\u001b[0;34m)\u001b[0m  \u001b[0;31m# type: ignore\u001b[0m\u001b[0;34m\u001b[0m\u001b[0;34m\u001b[0m\u001b[0m\n\u001b[0m\u001b[1;32m    252\u001b[0m             \u001b[0mobs_next\u001b[0m\u001b[0;34m,\u001b[0m \u001b[0mrew\u001b[0m\u001b[0;34m,\u001b[0m \u001b[0mdone\u001b[0m\u001b[0;34m,\u001b[0m \u001b[0minfo\u001b[0m \u001b[0;34m=\u001b[0m \u001b[0mresult\u001b[0m\u001b[0;34m\u001b[0m\u001b[0;34m\u001b[0m\u001b[0m\n\u001b[1;32m    253\u001b[0m \u001b[0;34m\u001b[0m\u001b[0m\n",
      "\u001b[0;32m~/anaconda3/lib/python3.8/site-packages/tianshou/env/venvs.py\u001b[0m in \u001b[0;36mstep\u001b[0;34m(self, action, id)\u001b[0m\n\u001b[1;32m    267\u001b[0m             \u001b[0;32mfor\u001b[0m \u001b[0mj\u001b[0m \u001b[0;32min\u001b[0m \u001b[0mid\u001b[0m\u001b[0;34m:\u001b[0m\u001b[0;34m\u001b[0m\u001b[0;34m\u001b[0m\u001b[0m\n\u001b[1;32m    268\u001b[0m                 \u001b[0mobs\u001b[0m\u001b[0;34m,\u001b[0m \u001b[0mrew\u001b[0m\u001b[0;34m,\u001b[0m \u001b[0mdone\u001b[0m\u001b[0;34m,\u001b[0m \u001b[0minfo\u001b[0m \u001b[0;34m=\u001b[0m \u001b[0mself\u001b[0m\u001b[0;34m.\u001b[0m\u001b[0mworkers\u001b[0m\u001b[0;34m[\u001b[0m\u001b[0mj\u001b[0m\u001b[0;34m]\u001b[0m\u001b[0;34m.\u001b[0m\u001b[0mrecv\u001b[0m\u001b[0;34m(\u001b[0m\u001b[0;34m)\u001b[0m\u001b[0;34m\u001b[0m\u001b[0;34m\u001b[0m\u001b[0m\n\u001b[0;32m--> 269\u001b[0;31m                 \u001b[0minfo\u001b[0m\u001b[0;34m[\u001b[0m\u001b[0;34m\"env_id\"\u001b[0m\u001b[0;34m]\u001b[0m \u001b[0;34m=\u001b[0m \u001b[0mj\u001b[0m\u001b[0;34m\u001b[0m\u001b[0;34m\u001b[0m\u001b[0m\n\u001b[0m\u001b[1;32m    270\u001b[0m                 \u001b[0mresult\u001b[0m\u001b[0;34m.\u001b[0m\u001b[0mappend\u001b[0m\u001b[0;34m(\u001b[0m\u001b[0;34m(\u001b[0m\u001b[0mobs\u001b[0m\u001b[0;34m,\u001b[0m \u001b[0mrew\u001b[0m\u001b[0;34m,\u001b[0m \u001b[0mdone\u001b[0m\u001b[0;34m,\u001b[0m \u001b[0minfo\u001b[0m\u001b[0;34m)\u001b[0m\u001b[0;34m)\u001b[0m\u001b[0;34m\u001b[0m\u001b[0;34m\u001b[0m\u001b[0m\n\u001b[1;32m    271\u001b[0m         \u001b[0;32melse\u001b[0m\u001b[0;34m:\u001b[0m\u001b[0;34m\u001b[0m\u001b[0;34m\u001b[0m\u001b[0m\n",
      "\u001b[0;31mIndexError\u001b[0m: only integers, slices (`:`), ellipsis (`...`), numpy.newaxis (`None`) and integer or boolean arrays are valid indices"
     ]
    }
   ],
   "source": [
    "result = ts.trainer.offpolicy_trainer(\n",
    "    policy, train_collector, test_collector,\n",
    "    max_epoch=10, step_per_epoch=10000, step_per_collect=10,\n",
    "    update_per_step=0.1, episode_per_test=100, batch_size=64,\n",
    "    train_fn=lambda epoch, env_step: policy.set_eps(0.1),\n",
    "    test_fn=lambda epoch, env_step: policy.set_eps(0.05),\n",
    "    stop_fn=lambda mean_rewards: mean_rewards >= env.spec.reward_threshold)\n",
    "print(f'Finished training! Use {result[\"duration\"]}')"
   ]
  },
  {
   "cell_type": "code",
   "execution_count": null,
   "id": "9c9dc60a",
   "metadata": {},
   "outputs": [],
   "source": [
    "from torch.utils.tensorboard import SummaryWriter\n",
    "from tianshou.utils import BasicLogger\n",
    "\n",
    "writer = SummaryWriter('log/dqn_chopper')\n",
    "logger = BasicLogger(writer)"
   ]
  },
  {
   "cell_type": "code",
   "execution_count": null,
   "id": "0722d73f",
   "metadata": {},
   "outputs": [],
   "source": [
    "torch.save(policy.state_dict(), 'dqn.pth')\n",
    "policy.load_state_dict(torch.load('dqn.pth'))"
   ]
  },
  {
   "cell_type": "code",
   "execution_count": null,
   "id": "8874200c",
   "metadata": {},
   "outputs": [],
   "source": [
    "policy.eval()\n",
    "policy.set_eps(0.07)\n",
    "collector = ts.data.Collector(policy, env, exploration_noise=True)\n",
    "collector.collect(n_episode=1, render=1 / 35)"
   ]
  }
 ],
 "metadata": {
  "kernelspec": {
   "display_name": "Python 3",
   "language": "python",
   "name": "python3"
  },
  "language_info": {
   "codemirror_mode": {
    "name": "ipython",
    "version": 3
   },
   "file_extension": ".py",
   "mimetype": "text/x-python",
   "name": "python",
   "nbconvert_exporter": "python",
   "pygments_lexer": "ipython3",
   "version": "3.8.11"
  }
 },
 "nbformat": 4,
 "nbformat_minor": 5
}
