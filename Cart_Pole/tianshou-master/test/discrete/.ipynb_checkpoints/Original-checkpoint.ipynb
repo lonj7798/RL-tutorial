{
 "cells": [
  {
   "cell_type": "code",
   "execution_count": 36,
   "id": "a441ce82",
   "metadata": {},
   "outputs": [],
   "source": [
    "path = \"/home/jaewon/MyWork/RL-tutorial/Cart Pole/result/\"\n",
    "task = 'CartPole-v1'\n",
    "epoch = 10"
   ]
  },
  {
   "cell_type": "code",
   "execution_count": 40,
   "id": "e169902f",
   "metadata": {
    "scrolled": true
   },
   "outputs": [
    {
     "name": "stdout",
     "output_type": "stream",
     "text": [
      "\n",
      "/home/jaewon/anaconda3/lib/python3.8/site-packages/gym/envs/registration.py:511: UserWarning: \u001b[33mWARN: Using the latest versioned environment `CartPole-v1` instead of the unversioned environment `CartPole`\u001b[0m\n",
      "  logger.warn(\n",
      "2022-04-20 03:28:16.184879: I tensorflow/stream_executor/platform/default/dso_loader.cc:53] Successfully opened dynamic library libcudart.so.11.0\n",
      "Traceback (most recent call last):\n",
      "  File \"cart_pole.py\", line 190, in <module>\n",
      "    test_dqn(get_args())\n",
      "  File \"cart_pole.py\", line 126, in test_dqn\n",
      "    buf.save_hdf5()\n",
      "TypeError: save_hdf5() missing 1 required positional argument: 'path'\n",
      "\u001b[0m"
     ]
    }
   ],
   "source": [
    "!python test_dqn.py --task $task --reward-threshold $1000 --epoch $epoch --step-per-epoch $10"
   ]
  },
  {
   "cell_type": "code",
   "execution_count": 24,
   "id": "5b72f5db",
   "metadata": {},
   "outputs": [
    {
     "name": "stdout",
     "output_type": "stream",
     "text": [
      "python: can't open file 'test_dqn.py': [Errno 2] No such file or directory\r\n"
     ]
    }
   ],
   "source": [
    "!python test_dqn.py --task $task --reward-threshold $1000 --epoch $epoch --logdir $path --step-per-epoch $2000 --render $1"
   ]
  },
  {
   "cell_type": "code",
   "execution_count": null,
   "id": "6f7273e9",
   "metadata": {},
   "outputs": [],
   "source": []
  }
 ],
 "metadata": {
  "kernelspec": {
   "display_name": "Python 3",
   "language": "python",
   "name": "python3"
  },
  "language_info": {
   "codemirror_mode": {
    "name": "ipython",
    "version": 3
   },
   "file_extension": ".py",
   "mimetype": "text/x-python",
   "name": "python",
   "nbconvert_exporter": "python",
   "pygments_lexer": "ipython3",
   "version": "3.8.11"
  }
 },
 "nbformat": 4,
 "nbformat_minor": 5
}
